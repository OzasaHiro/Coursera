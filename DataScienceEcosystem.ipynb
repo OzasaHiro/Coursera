{
 "cells": [
  {
   "cell_type": "markdown",
   "id": "e6ac3778",
   "metadata": {},
   "source": [
    "# Data Science Tools and Ecosystem"
   ]
  },
  {
   "cell_type": "markdown",
   "id": "b0b8c055",
   "metadata": {},
   "source": [
    "## Introduction"
   ]
  },
  {
   "cell_type": "markdown",
   "id": "95519963",
   "metadata": {},
   "source": [
    "In this notebook, Data Science Tools and Ecosystem are summarized."
   ]
  },
  {
   "cell_type": "markdown",
   "id": "a7063fd8",
   "metadata": {},
   "source": [
    "**Objectives:**\n",
    "- List popular languages for Data Science\n",
    "- List popular data science liblaries\n",
    "- List popular data science tools\n",
    "- Example of arismetic expression\n",
    "- Example code converts minutes to hours"
   ]
  },
  {
   "cell_type": "markdown",
   "id": "df44e956",
   "metadata": {},
   "source": [
    "### List of Data Science Languages\n",
    "Some of the popular languages that Data Scientists use are:"
   ]
  },
  {
   "cell_type": "markdown",
   "id": "4630de25",
   "metadata": {},
   "source": [
    "1. Python\n",
    "2. R\n",
    "3.  Julia\n",
    "4.  SQL\n",
    "5.  etc."
   ]
  },
  {
   "cell_type": "markdown",
   "id": "d7dbcd84",
   "metadata": {},
   "source": [
    "### List of Data Science Libraries\n",
    "Some of the commonly used libraries used by Data Scientists include:\n",
    "***"
   ]
  },
  {
   "cell_type": "markdown",
   "id": "9c6f1469",
   "metadata": {},
   "source": [
    "1. Scikit-learn\n",
    "2. Tensorflow\n",
    "3. Pytorch\n",
    "4. etc."
   ]
  },
  {
   "cell_type": "markdown",
   "id": "4adf64e5",
   "metadata": {},
   "source": [
    "### Table of Data Science Tools"
   ]
  },
  {
   "cell_type": "markdown",
   "id": "a600a09a",
   "metadata": {},
   "source": [
    "| Data Science Tools  |\n",
    " | ---- |\n",
    " | Jupyter Notebook|\n",
    "| IBM Watson Studio|\n",
    "|Apache Spark|"
   ]
  },
  {
   "cell_type": "markdown",
   "id": "8a5ec281",
   "metadata": {},
   "source": [
    "# Arismetic expression \n",
    "Below are a few examples of evaluating arithmetic expressions in Python."
   ]
  },
  {
   "cell_type": "markdown",
   "id": "65ce91c2",
   "metadata": {},
   "source": [
    "This a simple arithmetic expression to mutiply then add integers"
   ]
  },
  {
   "cell_type": "code",
   "execution_count": 14,
   "id": "c597d4ef",
   "metadata": {},
   "outputs": [
    {
     "data": {
      "text/plain": [
       "17"
      ]
     },
     "execution_count": 14,
     "metadata": {},
     "output_type": "execute_result"
    }
   ],
   "source": [
    "(3*4)+5"
   ]
  },
  {
   "cell_type": "markdown",
   "id": "b4c0bfd1",
   "metadata": {},
   "source": [
    "### The following code converts minutes to hours.\n",
    "This will convert 200 minutes to hours by diving by 60."
   ]
  },
  {
   "cell_type": "code",
   "execution_count": 17,
   "id": "7b1653f2",
   "metadata": {},
   "outputs": [
    {
     "name": "stdout",
     "output_type": "stream",
     "text": [
      "200 minutes is 3 h, and 20 min.\n"
     ]
    }
   ],
   "source": [
    "def MinutesToHours(min):\n",
    "    Hour = min//60\n",
    "    Minute = min%60\n",
    "    \n",
    "    return Hour, Minute\n",
    "\n",
    "min = 200\n",
    "\n",
    "a, b = MinutesToHours(min)\n",
    "print(min,  \"minutes is\",  a,  \"h, and\",  b,  \"min.\")\n",
    "\n"
   ]
  },
  {
   "cell_type": "markdown",
   "id": "2ea27309",
   "metadata": {},
   "source": [
    "Author\n",
    "## Hiroaki Ozasa"
   ]
  },
  {
   "cell_type": "code",
   "execution_count": null,
   "id": "ad40ac00",
   "metadata": {},
   "outputs": [],
   "source": []
  }
 ],
 "metadata": {
  "kernelspec": {
   "display_name": "Python 3 (ipykernel)",
   "language": "python",
   "name": "python3"
  },
  "language_info": {
   "codemirror_mode": {
    "name": "ipython",
    "version": 3
   },
   "file_extension": ".py",
   "mimetype": "text/x-python",
   "name": "python",
   "nbconvert_exporter": "python",
   "pygments_lexer": "ipython3",
   "version": "3.9.7"
  }
 },
 "nbformat": 4,
 "nbformat_minor": 5
}

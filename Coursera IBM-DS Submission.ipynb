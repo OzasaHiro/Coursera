{
 "cells": [
  {
   "cell_type": "markdown",
   "id": "16b172c1",
   "metadata": {},
   "source": [
    "# Submission -Tools for Data Science-"
   ]
  },
  {
   "cell_type": "markdown",
   "id": "d1bd7518",
   "metadata": {},
   "source": [
    "## Introduction"
   ]
  },
  {
   "cell_type": "markdown",
   "id": "7ce0e606",
   "metadata": {},
   "source": [
    "This is the submission file for coursera IBM Data Science course."
   ]
  },
  {
   "cell_type": "markdown",
   "id": "c3963075",
   "metadata": {},
   "source": [
    "### List of Data Science Languages"
   ]
  },
  {
   "cell_type": "markdown",
   "id": "e2f3f943",
   "metadata": {},
   "source": [
    "- Python\n",
    "- R\n",
    "- Julia\n",
    "- SQL\n",
    "- etc."
   ]
  },
  {
   "cell_type": "markdown",
   "id": "8a360ba9",
   "metadata": {},
   "source": [
    "### List of Data Science Libraries"
   ]
  },
  {
   "cell_type": "markdown",
   "id": "a5cd1520",
   "metadata": {},
   "source": [
    "- Scikit-learn\n",
    "- Tensorflow\n",
    "- Pytorch\n",
    "- etc."
   ]
  },
  {
   "cell_type": "markdown",
   "id": "4743a881",
   "metadata": {},
   "source": [
    "### Table of Data Science Tools"
   ]
  },
  {
   "cell_type": "markdown",
   "id": "b6462193",
   "metadata": {},
   "source": [
    "| No | Name  |\n",
    "|---- | ---- |\n",
    "|1 | Jupyter Notebook|\n",
    "|2| IBM Watson Studio|"
   ]
  },
  {
   "cell_type": "markdown",
   "id": "65a3e9df",
   "metadata": {},
   "source": [
    "# Arismetic expression \n",
    "The following code outputs the result of \"2* 3 + 4\"(The answer is 10.)."
   ]
  },
  {
   "cell_type": "code",
   "execution_count": 6,
   "id": "b83395b3",
   "metadata": {},
   "outputs": [
    {
     "name": "stdout",
     "output_type": "stream",
     "text": [
      "10\n"
     ]
    }
   ],
   "source": [
    "def ABC(A, B, C):\n",
    "    return (A*B + C)\n",
    "\n",
    "print(ABC(2, 3, 4))"
   ]
  },
  {
   "cell_type": "markdown",
   "id": "c60cdf71",
   "metadata": {},
   "source": [
    "### The following code converts minutes to hours."
   ]
  },
  {
   "cell_type": "code",
   "execution_count": 12,
   "id": "4bfa06bf",
   "metadata": {},
   "outputs": [
    {
     "name": "stdout",
     "output_type": "stream",
     "text": [
      "1275 is 21 h: 15 min.\n"
     ]
    }
   ],
   "source": [
    "def MinutesToHours(min):\n",
    "    Hour = min//60\n",
    "    Minute = min%60\n",
    "    \n",
    "    return Hour, Minute\n",
    "\n",
    "min = 1275\n",
    "\n",
    "a, b = MinutesToHours(min)\n",
    "print(min,  \"is\",  a,  \"h:\",  b,  \"min.\")\n",
    "\n"
   ]
  },
  {
   "cell_type": "markdown",
   "id": "1390d37a",
   "metadata": {},
   "source": [
    "## Objectives"
   ]
  },
  {
   "cell_type": "markdown",
   "id": "821dc69d",
   "metadata": {},
   "source": [
    "In this file, I worked on the following issues.\n",
    "\n",
    "- Exercise 2 - Create a markdown cell with the title of the notebook. (1 pt)\n",
    "\n",
    "- Exercise 3 - Create a markdown cell for an introduction. (1 pt)\n",
    "\n",
    "- Exercise 4 - Create a markdown cell to list data science languages. (3 pts)\n",
    "\n",
    "- Exercise 5 - Create a markdown cell to list data science libraries. (3 pts)\n",
    "\n",
    "- Exercise 6 - Create a markdown cell with a table of Data Science tools. (3 pts)\n",
    "\n",
    "- Exercise 7 - Create a markdown cell introducing arithmetic expression examples. (1 pt)\n",
    "\n",
    "- Exercise 8 - Create a code cell to multiply and add numbers.(2 pts)\n",
    "\n",
    "- Exercise 9 - Create a code cell to convert minutes to hours. (2 pts)\n",
    "\n",
    "- Exercise 10 -Insert a markdown cell to list Objectives. (3 pts)\n",
    "\n",
    "- Exercise 11 - Create a markdown cell to indicate the Author’s name. (2 pts)\n",
    "\n",
    "- Exercise 12 - Share your notebook through GitHub (3 pts)\n",
    "\n",
    "- Exercise 13 - Take a screenshot of the first page of the notebook. (1 pt)"
   ]
  },
  {
   "cell_type": "markdown",
   "id": "cd343c1e",
   "metadata": {},
   "source": [
    "## Author"
   ]
  },
  {
   "cell_type": "markdown",
   "id": "f918c45e",
   "metadata": {},
   "source": [
    "### **Hiroaki Ozasa**"
   ]
  },
  {
   "cell_type": "code",
   "execution_count": null,
   "id": "37df3d25",
   "metadata": {},
   "outputs": [],
   "source": []
  }
 ],
 "metadata": {
  "kernelspec": {
   "display_name": "Python 3 (ipykernel)",
   "language": "python",
   "name": "python3"
  },
  "language_info": {
   "codemirror_mode": {
    "name": "ipython",
    "version": 3
   },
   "file_extension": ".py",
   "mimetype": "text/x-python",
   "name": "python",
   "nbconvert_exporter": "python",
   "pygments_lexer": "ipython3",
   "version": "3.9.7"
  }
 },
 "nbformat": 4,
 "nbformat_minor": 5
}

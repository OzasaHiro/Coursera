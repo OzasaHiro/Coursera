{
 "cells": [
  {
   "cell_type": "markdown",
   "id": "8fb1adab-30c6-4357-aec7-73e23b98c337",
   "metadata": {
    "tags": []
   },
   "source": [
    "# My Jupyter Notebook on IBM Watson Studio"
   ]
  },
  {
   "cell_type": "markdown",
   "id": "f774f701-c23b-4450-9cb9-4c5847490542",
   "metadata": {},
   "source": [
    "<u>**Hiroaki Ozasa**</u> Project Manager"
   ]
  },
  {
   "cell_type": "markdown",
   "id": "c0093953-6c91-4247-b9a6-f52b62082a20",
   "metadata": {},
   "source": [
    "*Data Science could transform the world. This is why I would like to study data science.* "
   ]
  },
  {
   "cell_type": "markdown",
   "id": "31d52d79-5749-4c05-98c0-a79334ec2d00",
   "metadata": {},
   "source": [
    "### In the next code, I print the result of \"2 + 3\""
   ]
  },
  {
   "cell_type": "code",
   "execution_count": 6,
   "id": "c9969799-f0b7-4ac8-98f8-178cb7721ccf",
   "metadata": {},
   "outputs": [
    {
     "name": "stdout",
     "output_type": "stream",
     "text": [
      "5\n"
     ]
    }
   ],
   "source": [
    "print(2+3)"
   ]
  },
  {
   "cell_type": "markdown",
   "id": "96eaff9b-701e-437f-b009-f12a81263bcb",
   "metadata": {},
   "source": [
    "NO.| Title | Wikipedia | \n",
    "---| ------ |------ |\n",
    "1| [Google](https://www.google.com/)   | https://en.wikipedia.org/wiki/Google| \n",
    "2| [Apple](https://www.apple.com/)   | https://en.wikipedia.org/wiki/Apple_Inc.| \n",
    "3| [Microsoft](https://www.microsoft.com/)  |https://en.wikipedia.org/wiki/Microsoft|\n",
    "\n"
   ]
  }
 ],
 "metadata": {
  "kernelspec": {
   "display_name": "Python",
   "language": "python",
   "name": "conda-env-python-py"
  },
  "language_info": {
   "codemirror_mode": {
    "name": "ipython",
    "version": 3
   },
   "file_extension": ".py",
   "mimetype": "text/x-python",
   "name": "python",
   "nbconvert_exporter": "python",
   "pygments_lexer": "ipython3",
   "version": "3.7.12"
  }
 },
 "nbformat": 4,
 "nbformat_minor": 5
}
